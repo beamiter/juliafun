{
 "cells": [
  {
   "cell_type": "code",
   "execution_count": 1,
   "id": "22f1b95a",
   "metadata": {},
   "outputs": [
    {
     "data": {
      "application/vnd.webio.node+json": {
       "children": [],
       "instanceArgs": {
        "namespace": "html",
        "tag": "div"
       },
       "nodeType": "DOM",
       "props": {},
       "type": "node"
      },
      "text/html": [
       "<div style=\"padding: 1em; background-color: #f8d6da; border: 1px solid #f5c6cb; font-weight: bold;\">\n",
       "<p>The WebIO Jupyter extension was not detected. See the\n",
       "<a href=\"https://juliagizmos.github.io/WebIO.jl/latest/providers/ijulia/\" target=\"_blank\">\n",
       "    WebIO Jupyter integration documentation\n",
       "</a>\n",
       "for more information.\n",
       "</div>\n"
      ],
      "text/plain": [
       "WebIO._IJuliaInit()"
      ]
     },
     "metadata": {
      "@webio": {
       "kernelId": "a8940976-b327-4895-a0d2-9b939a2202f0"
      }
     },
     "output_type": "display_data"
    },
    {
     "data": {
      "text/plain": [
       "BicycleCar (generic function with 2 methods)"
      ]
     },
     "execution_count": 1,
     "metadata": {},
     "output_type": "execute_result"
    }
   ],
   "source": [
    "using Altro\n",
    "using RobotZoo\n",
    "using StaticArrays\n",
    "using LinearAlgebra\n",
    "using TrajectoryOptimization\n",
    "const TO = TrajectoryOptimization\n",
    "using BenchmarkTools\n",
    "using Plots\n",
    "using PlotlyJS\n",
    "using ForwardDiff, FiniteDiff\n",
    "using RobotDynamics\n",
    "const RD = RobotDynamics\n",
    "\n",
    "RD.@autodiff struct MyBicycleModel <: RD.ContinuousDynamics\n",
    "  ref::Symbol\n",
    "  L::Float64\n",
    "  lr::Float64\n",
    "  function MyBicycleModel(; ref::Symbol=:rear, L::Real=2.7, lr::Real=1.5)\n",
    "    @assert ref ∈ (:cg, :front, :rear)\n",
    "    @assert L > 0 \"($L) must be greater than 0\"\n",
    "    @assert L > lr \"($L) must be greater than ($lr)\"\n",
    "    new(ref, L, lr)\n",
    "  end\n",
    "end\n",
    "\n",
    "body = quote\n",
    "  da = u[1]\n",
    "  ϕ = u[2]\n",
    "\n",
    "  θ = x[3]\n",
    "  δ = x[4]\n",
    "  v = x[5]\n",
    "  a = x[6]\n",
    "  if model.ref == :cg\n",
    "    β = atan(model.lr * δ, model.L)\n",
    "    s, c = sincos(θ + β)\n",
    "    ω = v * cos(β) * tan(δ) / model.L\n",
    "  elseif model.ref == :rear\n",
    "    s, c = sincos(θ)\n",
    "    ω = v * tan(δ) / model.L\n",
    "  elseif model.ref == :front\n",
    "    s, c = sincos(θ + δ)\n",
    "    ω = v * sin(δ) / model.L\n",
    "  end\n",
    "  ẋ = v * c\n",
    "  ẏ = v * s\n",
    "end\n",
    "\n",
    "@eval function RD.dynamics(model::MyBicycleModel, x, u)\n",
    "  $body\n",
    "  return SA[ẋ, ẏ, ω, ϕ, a, da]\n",
    "end\n",
    "@eval function RD.dynamics!(model::MyBicycleModel, xdot, x, u)\n",
    "  $body\n",
    "  xdot[1] = ẋ\n",
    "  xdot[2] = ẏ\n",
    "  xdot[3] = ω\n",
    "  xdot[4] = ϕ\n",
    "  xdot[5] = a\n",
    "  xdot[6] = da\n",
    "  return nothing\n",
    "end\n",
    "RD.state_dim(::MyBicycleModel) = 6\n",
    "RD.control_dim(::MyBicycleModel) = 2\n",
    "\n",
    "function BicycleCar(scenario=:parallel_park, ; N=51, x0)\n",
    "  model = MyBicycleModel(; ref=:rear)\n",
    "  n, m = size(model)\n",
    "\n",
    "  opts = SolverOptions(penalty_initial=1e4, verbose=0,\n",
    "    cost_tolerance_intermediate=1e-1)\n",
    "\n",
    "  tf = 5.0\n",
    "  dt = tf / (N - 1)\n",
    "\n",
    "  xf = SA[13, -1.2, deg2rad(0), 0, 2.0, 0]\n",
    "\n",
    "  # x, y, theta, delta, v, a\n",
    "  Q = Diagonal(SA[10, 10, 60, 1, 1, 1])\n",
    "  # jerk, phi\n",
    "  ρ = 1.0\n",
    "  R = ρ * Diagonal(SA[1, 1])\n",
    "  Qf = Diagonal(SA_F64[10, 10, 60, 1, 1, 1])\n",
    "  obj = LQRObjective(Q * dt, R * dt, Qf, xf, N)\n",
    "\n",
    "  cons = ConstraintList(n, m, N)\n",
    "  bnd_x_l = [-1, -2.4, Inf, -deg2rad(45), 0.0, -3]\n",
    "  bnd_x_u = [20, 2.4, Inf, deg2rad(45), 6.0, 3]\n",
    "  bnd_u_l = [-3, -deg2rad(45)]\n",
    "  bnd_u_u = [3, deg2rad(45)]\n",
    "\n",
    "  bnd = BoundConstraint(n, m, x_min=bnd_x_l, x_max=bnd_x_u, u_min=bnd_u_l,\n",
    "    u_max=bnd_u_u)\n",
    "\n",
    "  p = 3\n",
    "  A = zeros(p, m + n)\n",
    "  A[1, 5] = 1.0\n",
    "  A[2, 5] = -1.0\n",
    "  A[3, 2] = -1.0\n",
    "  A = SMatrix{p,m + n,Float64}(A)\n",
    "  b = zeros(p)\n",
    "  b[1] = 4.0\n",
    "  b[2] = -1.0\n",
    "  b[3] = 1.3\n",
    "  b = SVector{p,Float64}(b)\n",
    "  lin = LinearConstraint(n, m, A, b, Inequality())\n",
    "\n",
    "  goal = GoalConstraint(xf)\n",
    "\n",
    "  add_constraint!(cons, bnd, 1:N-1)\n",
    "  # add_constraint!(cons, goal, N)\n",
    "  add_constraint!(cons, lin, 2:N)\n",
    "\n",
    "  prob = Problem(model, obj, x0, tf, xf=xf, constraints=cons)\n",
    "  initial_controls!(prob, SA[0.0, 0.0])\n",
    "  rollout!(prob)\n",
    "\n",
    "\n",
    "  return prob, opts\n",
    "end\n"
   ]
  },
  {
   "cell_type": "code",
   "execution_count": 2,
   "id": "c88ca3ab",
   "metadata": {},
   "outputs": [
    {
     "data": {
      "text/plain": [
       "loop (generic function with 1 method)"
      ]
     },
     "execution_count": 2,
     "metadata": {},
     "output_type": "execute_result"
    }
   ],
   "source": [
    "function loop(x0::Vector{Float64})\n",
    "# x0 = SA_F64[0, 0, 0, 0, 4, 0]\n",
    "x00 = SVector{length(x0)}(x0)\n",
    "@show x00\n",
    "bicycle = BicycleCar(:parallel_park, x0=x00)\n",
    "solver = ALTROSolver(bicycle...)\n",
    "solve!(solver)\n",
    "\n",
    "X = states(solver)\n",
    "U = controls(solver)\n",
    "@show size(X)\n",
    "@show size(U)\n",
    "Plots.plot([x[1] for x in X], [x[2] for x in X])\n",
    "X[2]\n",
    "end"
   ]
  },
  {
   "cell_type": "code",
   "execution_count": 3,
   "id": "49714776",
   "metadata": {},
   "outputs": [
    {
     "data": {
      "text/plain": [
       "6-element Vector{Float64}:\n",
       " 0.0\n",
       " 0.0\n",
       " 0.0\n",
       " 0.0\n",
       " 4.0\n",
       " 0.0"
      ]
     },
     "execution_count": 3,
     "metadata": {},
     "output_type": "execute_result"
    }
   ],
   "source": [
    "x0 = Vector{Float64}([0, 0, 0, 0, 4, 0])"
   ]
  },
  {
   "cell_type": "code",
   "execution_count": 4,
   "id": "d043ffd4",
   "metadata": {},
   "outputs": [
    {
     "name": "stdout",
     "output_type": "stream",
     "text": [
      "x00 = [0.0, 0.0, 0.0, 0.0, 4.0, 0.0]\n",
      "\u001b[32;1m\n",
      "SOLVE COMPLETED\n",
      "\u001b[0m solved using the \u001b[0m\u001b[36;1mALTRO\u001b[0m Solver,\n",
      " part of the Altro.jl package developed by the REx Lab at Stanford and Carnegie Mellon Universities\n",
      "\u001b[34;1m\n",
      "  Solve Statistics\n",
      "\u001b[0m    Total Iterations: 21\n",
      "\u001b[0m    Solve Time: 2369.114096 (ms)\n",
      "\u001b[34;1m\n",
      "  Covergence\n",
      "\u001b[0m    Terminal Cost: 997.8883235415047\n",
      "\u001b[0m    Terminal dJ: \u001b[32m-0.0013891946807689237\n",
      "\u001b[0m    Terminal gradient: \u001b[32m0.0020920871458031663\n",
      "\u001b[0m    Terminal constraint violation: \u001b[32m5.8036411232365026e-8\n",
      "\u001b[0m    Solve Status: \u001b[1m\u001b[32mSOLVE_SUCCEEDED\n",
      "\u001b[0msize(X) = (51,)\n",
      "size(U) = (50,)\n"
     ]
    },
    {
     "data": {
      "text/plain": [
       "6-element Vector{Float64}:\n",
       "  0.39999830559701893\n",
       " -0.0007760981272082895\n",
       " -0.00582375640097174\n",
       " -0.07853981633761649\n",
       "  3.999999992198381\n",
       " -1.5597688115208917e-7"
      ]
     },
     "execution_count": 4,
     "metadata": {},
     "output_type": "execute_result"
    }
   ],
   "source": [
    "x0 = Vector(loop(x0))"
   ]
  },
  {
   "cell_type": "code",
   "execution_count": null,
   "id": "d6313b21",
   "metadata": {},
   "outputs": [],
   "source": []
  }
 ],
 "metadata": {
  "@webio": {
   "lastCommId": "525baec4-eb55-4153-94c8-d907b8efdc4f",
   "lastKernelId": "a8940976-b327-4895-a0d2-9b939a2202f0"
  },
  "kernelspec": {
   "display_name": "Julia 1.6.6",
   "language": "julia",
   "name": "julia-1.6"
  },
  "language_info": {
   "file_extension": ".jl",
   "mimetype": "application/julia",
   "name": "julia",
   "version": "1.6.6"
  }
 },
 "nbformat": 4,
 "nbformat_minor": 5
}
